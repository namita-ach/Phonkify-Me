{
  "cells": [
    {
      "cell_type": "code",
      "execution_count": 2,
      "metadata": {
        "id": "7HhGYB61rybj"
      },
      "outputs": [],
      "source": [
        "import requests\n",
        "import numpy as np\n",
        "from sklearn.metrics.pairwise import cosine_similarity"
      ]
    },
    {
      "cell_type": "code",
      "execution_count": 1,
      "metadata": {
        "id": "-P1plH-orybk"
      },
      "outputs": [],
      "source": [
        "ACCESS_TOKEN = 'ACCESS-TOKEN'"
      ]
    },
    {
      "cell_type": "code",
      "execution_count": 3,
      "metadata": {
        "id": "T4Jkh4PErybk"
      },
      "outputs": [],
      "source": [
        "def search_song_on_spotify(song_name):\n",
        "    headers = {\n",
        "        'Authorization': f'Bearer {ACCESS_TOKEN}'\n",
        "    }\n",
        "    url = f'https://api.spotify.com/v1/search?q={song_name}&type=track&limit=50'\n",
        "\n",
        "    response = requests.get(url, headers=headers)\n",
        "\n",
        "    if response.status_code == 200:\n",
        "        data = response.json()\n",
        "        tracks = data['tracks']['items']\n",
        "        return [(track['id'], track['name'], track['artists'][0]['name']) for track in tracks]\n",
        "    else:\n",
        "        print(f\"Error fetching data: {response.status_code}\")\n",
        "        return []"
      ]
    },
    {
      "cell_type": "code",
      "execution_count": 4,
      "metadata": {
        "id": "p_6OZPZNrybl"
      },
      "outputs": [],
      "source": [
        "def get_audio_features(track_ids):\n",
        "    headers = {\n",
        "        'Authorization': f'Bearer {ACCESS_TOKEN}'\n",
        "    }\n",
        "    ids = ','.join(track_ids)\n",
        "    url = f'https://api.spotify.com/v1/audio-features?ids={ids}'\n",
        "\n",
        "    response = requests.get(url, headers=headers)\n",
        "\n",
        "    if response.status_code == 200:\n",
        "        data = response.json()\n",
        "        return data['audio_features']\n",
        "    else:\n",
        "        print(f\"Error fetching audio features: {response.status_code}\")\n",
        "        return []"
      ]
    },
    {
      "cell_type": "code",
      "source": [
        "def analyze_bass_characteristics(track_name):\n",
        "    results = search_song_on_spotify(track_name)\n",
        "\n",
        "    if not results:\n",
        "        print(\"No tracks found.\")\n",
        "        return\n",
        "\n",
        "    # Remove exact duplicates based on track name\n",
        "    unique_results = []\n",
        "    seen_tracks = set()\n",
        "    for track in results:\n",
        "        track_name = track[1].lower()\n",
        "        if track_name not in seen_tracks:\n",
        "            unique_results.append(track)\n",
        "            seen_tracks.add(track_name)\n",
        "\n",
        "    # Proceed with unique results\n",
        "    track_ids = [track[0] for track in unique_results]\n",
        "\n",
        "    audio_features = get_audio_features(track_ids)\n",
        "\n",
        "    audio_features = [features for features in audio_features if features is not None]\n",
        "\n",
        "    if not audio_features:\n",
        "        print(\"No audio features found.\")\n",
        "        return\n",
        "\n",
        "    # Extract all features (except liveness)\n",
        "    feature_vectors = np.array([[features['danceability'],\n",
        "                                 features['energy'],\n",
        "                                 features['valence'],\n",
        "                                 features['loudness'],\n",
        "                                 features['key'],\n",
        "                                 features['mode'],\n",
        "                                 features['speechiness'],\n",
        "                                 features['acousticness'],\n",
        "                                 features['instrumentalness'],\n",
        "                                 features['tempo'],\n",
        "                                 features['time_signature']]\n",
        "                                for features in audio_features])\n",
        "\n",
        "    # Prioritize energy, danceability, and valence\n",
        "    prioritized_features = feature_vectors.copy()\n",
        "    prioritized_features[:, 0] *= 2  # Danceability\n",
        "    prioritized_features[:, 1] *= 2  # Energy\n",
        "    prioritized_features[:, 2] *= 2  # Valence\n",
        "\n",
        "    # Calculate similarities\n",
        "    similarities = cosine_similarity(prioritized_features)\n",
        "\n",
        "    # Exclude the query track's similarity to itself\n",
        "    similarities = similarities[0][1:]  # Exclude self similarity\n",
        "\n",
        "    # Find the most similar tracks (excluding itself)\n",
        "    most_similar_indices = np.argsort(similarities)[-10:][::-1]\n",
        "\n",
        "    slowed_sped_tracks = []\n",
        "    different_songs_tracks = []\n",
        "\n",
        "    # Categorize tracks based on their names\n",
        "    for index in most_similar_indices:\n",
        "        similar_track = unique_results[index]\n",
        "        track_name, artist_name = similar_track[1], similar_track[2]\n",
        "\n",
        "        # Check if the track name contains keywords indicating slowed or sped versions\n",
        "        if any(keyword in track_name.lower() for keyword in ['slowed', 'sped up', 'reverbed']):\n",
        "            slowed_sped_tracks.append(f\"{track_name} by {artist_name}\")\n",
        "        else:\n",
        "            different_songs_tracks.append(f\"{track_name} by {artist_name}\")\n",
        "\n",
        "    print(f\"Top Similar Tracks to '{track_name}':\")\n",
        "\n",
        "    if slowed_sped_tracks:\n",
        "        print(\"\\nSlowed/Sped/Reverbed Versions:\")\n",
        "        for track in slowed_sped_tracks:\n",
        "            print(f\"- {track}\")\n",
        "\n",
        "    if different_songs_tracks:\n",
        "        print(\"\\nDifferent Similar Songs:\")\n",
        "        for track in different_songs_tracks:\n",
        "            print(f\"- {track}\")"
      ],
      "metadata": {
        "id": "MeJ5-qgMtHQy"
      },
      "execution_count": 11,
      "outputs": []
    },
    {
      "cell_type": "code",
      "execution_count": 12,
      "metadata": {
        "colab": {
          "base_uri": "https://localhost:8080/"
        },
        "id": "qxG1wDqtrybl",
        "outputId": "038515aa-ff63-4e03-805c-bf24356d0596"
      },
      "outputs": [
        {
          "output_type": "stream",
          "name": "stdout",
          "text": [
            "Enter a song name to analyze its bass characteristics on Spotify: Feel It Still\n",
            "Top Similar Tracks to 'Feel It (Invincible)':\n",
            "\n",
            "Different Similar Songs:\n",
            "- It's Too Late by Carole King\n",
            "- Feel It Still - Gryffin Remix by Portugal. The Man\n",
            "- feel it all by sød ven\n",
            "- Feel It Still - ZHU Remix by Portugal. The Man\n",
            "- All Nightmare Long by Metallica\n",
            "- Feel It Still - Medasin Remix by Portugal. The Man\n",
            "- Feel it still (Inkie remake) by INKIE\n",
            "- Feel It Still - Ofenbach Remix by Portugal. The Man\n",
            "- Kids in Love (feat. The Night Game) by Kygo\n",
            "- Feel It (Invincible) by ONE PROJECT\n"
          ]
        }
      ],
      "source": [
        "track_name_input = input(\"Enter a song name to analyze its bass characteristics on Spotify: \")\n",
        "analyze_bass_characteristics(track_name_input)"
      ]
    },
    {
      "cell_type": "code",
      "execution_count": null,
      "metadata": {
        "id": "1PvhfEmZrybm"
      },
      "outputs": [],
      "source": []
    }
  ],
  "metadata": {
    "kernelspec": {
      "display_name": "Python 3",
      "language": "python",
      "name": "python3"
    },
    "language_info": {
      "codemirror_mode": {
        "name": "ipython",
        "version": 3
      },
      "file_extension": ".py",
      "mimetype": "text/x-python",
      "name": "python",
      "nbconvert_exporter": "python",
      "pygments_lexer": "ipython3",
      "version": "3.10.12"
    },
    "colab": {
      "provenance": []
    }
  },
  "nbformat": 4,
  "nbformat_minor": 0
}