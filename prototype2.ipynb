{
 "cells": [
  {
   "cell_type": "code",
   "execution_count": 1,
   "metadata": {},
   "outputs": [],
   "source": [
    "import requests\n",
    "import numpy as np\n",
    "from sklearn.metrics.pairwise import cosine_similarity"
   ]
  },
  {
   "cell_type": "code",
   "execution_count": 2,
   "metadata": {},
   "outputs": [],
   "source": [
    "ACCESS_TOKEN = \"YOUR_ACCESS_TOKEN\""
   ]
  },
  {
   "cell_type": "code",
   "execution_count": 3,
   "metadata": {},
   "outputs": [],
   "source": [
    "def search_song_on_spotify(song_name):\n",
    "    headers = {\n",
    "        'Authorization': f'Bearer {ACCESS_TOKEN}'\n",
    "    }\n",
    "    url = f'https://api.spotify.com/v1/search?q={song_name}&type=track'\n",
    "    \n",
    "    response = requests.get(url, headers=headers)\n",
    "    \n",
    "    if response.status_code == 200:\n",
    "        data = response.json()\n",
    "        tracks = data['tracks']['items']\n",
    "        return [(track['id'], track['name'], track['artists'][0]['name']) for track in tracks]\n",
    "    else:\n",
    "        print(f\"Error fetching data: {response.status_code}\")\n",
    "        return []"
   ]
  },
  {
   "cell_type": "code",
   "execution_count": 4,
   "metadata": {},
   "outputs": [],
   "source": [
    "def get_audio_features(track_ids):\n",
    "    headers = {\n",
    "        'Authorization': f'Bearer {ACCESS_TOKEN}'\n",
    "    }\n",
    "    ids = ','.join(track_ids)\n",
    "    url = f'https://api.spotify.com/v1/audio-features?ids={ids}'\n",
    "    \n",
    "    response = requests.get(url, headers=headers)\n",
    "    \n",
    "    if response.status_code == 200:\n",
    "        data = response.json()\n",
    "        return data['audio_features']\n",
    "    else:\n",
    "        print(f\"Error fetching audio features: {response.status_code}\")\n",
    "        return []"
   ]
  },
  {
   "cell_type": "code",
   "execution_count": 7,
   "metadata": {},
   "outputs": [],
   "source": [
    "def find_most_similar_tracks(track_name):\n",
    "    # Search for the song on Spotify\n",
    "    results = search_song_on_spotify(track_name)\n",
    "    \n",
    "    if not results:\n",
    "        print(\"No tracks found.\")\n",
    "        return\n",
    "    \n",
    "    track_ids = [track[0] for track in results]\n",
    "    \n",
    "    # Get audio features for the found tracks\n",
    "    audio_features = get_audio_features(track_ids)\n",
    "    \n",
    "    # Filter out None values (in case some features couldn't be retrieved)\n",
    "    audio_features = [features for features in audio_features if features is not None]\n",
    "    \n",
    "    if not audio_features:\n",
    "        print(\"No audio features found.\")\n",
    "        return\n",
    "    \n",
    "    # Extract some high level features\n",
    "    feature_vectors = np.array([[features['danceability'], features['energy'], features['valence']] for features in audio_features])\n",
    "    \n",
    "    # Calculate similarities with the first track as reference\n",
    "    similarities = cosine_similarity(feature_vectors)\n",
    "    \n",
    "    # Find the indices of the top 10 most similar tracks (excluding itself)\n",
    "    most_similar_indices = np.argsort(similarities[0][1:])[-10:][::-1] + 1  # +1 because we exclude itself\n",
    "    \n",
    "    print(f\"Top 10 similar tracks to '{track_name}':\")\n",
    "    \n",
    "    for index in most_similar_indices:\n",
    "        similar_track = results[index]\n",
    "        print(f\"- {similar_track[1]} by {similar_track[2]}\")"
   ]
  },
  {
   "cell_type": "code",
   "execution_count": 9,
   "metadata": {},
   "outputs": [
    {
     "name": "stdout",
     "output_type": "stream",
     "text": [
      "Top 10 similar tracks to 'x-tali':\n",
      "- X-TALI (SLOWED) by MXCCREE\n",
      "- X-TALI (SUPER SLOWED) by MXCCREE\n",
      "- X-TALI (SPED UP) by MXCCREE\n",
      "- X-PRIME by Dj Samir\n",
      "- X-FAST by ICEDMANE\n",
      "- EMPIRE by Ogryzek\n",
      "- X-AURA by Nulteex\n",
      "- X (Fr Breakfast) by MKTad\n",
      "- X-talibã by XW1Z\n",
      "- X-Ecutioner Style (feat. Black Thought) by Linkin Park\n"
     ]
    }
   ],
   "source": [
    "track_name_input = input(\"Enter a song name to find its most similar tracks on Spotify: \")\n",
    "find_most_similar_tracks(track_name_input)"
   ]
  },
  {
   "cell_type": "code",
   "execution_count": null,
   "metadata": {},
   "outputs": [],
   "source": []
  }
 ],
 "metadata": {
  "kernelspec": {
   "display_name": "Python 3",
   "language": "python",
   "name": "python3"
  },
  "language_info": {
   "codemirror_mode": {
    "name": "ipython",
    "version": 3
   },
   "file_extension": ".py",
   "mimetype": "text/x-python",
   "name": "python",
   "nbconvert_exporter": "python",
   "pygments_lexer": "ipython3",
   "version": "3.10.12"
  }
 },
 "nbformat": 4,
 "nbformat_minor": 2
}
