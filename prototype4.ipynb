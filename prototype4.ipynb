{
 "cells": [
  {
   "cell_type": "code",
   "execution_count": 1,
   "metadata": {},
   "outputs": [],
   "source": [
    "import requests\n",
    "import numpy as np\n",
    "from sklearn.metrics.pairwise import cosine_similarity"
   ]
  },
  {
   "cell_type": "code",
   "execution_count": 2,
   "metadata": {},
   "outputs": [],
   "source": [
    "ACCESS_TOKEN = \"BQCL0Qpd86x6arlyx9NmlaD60q2fcm3QT8qGC_Q1-Ya1j9Os_0vC41fxxW9GcrxfA598sb1Ro103GHG3J1R7b7RcR0JQAkh7B1Pq-lphuKYby5Q7emg\""
   ]
  },
  {
   "cell_type": "code",
   "execution_count": 3,
   "metadata": {},
   "outputs": [],
   "source": [
    "def search_song_on_spotify(song_name):\n",
    "    headers = {\n",
    "        'Authorization': f'Bearer {ACCESS_TOKEN}'\n",
    "    }\n",
    "    url = f'https://api.spotify.com/v1/search?q={song_name}&type=track&limit=50'\n",
    "    \n",
    "    response = requests.get(url, headers=headers)\n",
    "    \n",
    "    if response.status_code == 200:\n",
    "        data = response.json()\n",
    "        tracks = data['tracks']['items']\n",
    "        return [(track['id'], track['name'], track['artists'][0]['name']) for track in tracks]\n",
    "    else:\n",
    "        print(f\"Error fetching data: {response.status_code}\")\n",
    "        return []"
   ]
  },
  {
   "cell_type": "code",
   "execution_count": 4,
   "metadata": {},
   "outputs": [],
   "source": [
    "def get_audio_features(track_ids):\n",
    "    headers = {\n",
    "        'Authorization': f'Bearer {ACCESS_TOKEN}'\n",
    "    }\n",
    "    ids = ','.join(track_ids)\n",
    "    url = f'https://api.spotify.com/v1/audio-features?ids={ids}'\n",
    "    \n",
    "    response = requests.get(url, headers=headers)\n",
    "    \n",
    "    if response.status_code == 200:\n",
    "        data = response.json()\n",
    "        return data['audio_features']\n",
    "    else:\n",
    "        print(f\"Error fetching audio features: {response.status_code}\")\n",
    "        return []"
   ]
  },
  {
   "cell_type": "code",
   "execution_count": 5,
   "metadata": {},
   "outputs": [],
   "source": [
    "def analyze_bass_characteristics(track_name):\n",
    "    results = search_song_on_spotify(track_name)\n",
    "    \n",
    "    if not results:\n",
    "        print(\"No tracks found.\")\n",
    "        return\n",
    "    \n",
    "    track_ids = [track[0] for track in results]\n",
    "    \n",
    "    audio_features = get_audio_features(track_ids)\n",
    "    \n",
    "    audio_features = [features for features in audio_features if features is not None]\n",
    "    \n",
    "    if not audio_features:\n",
    "        print(\"No audio features found.\")\n",
    "        return\n",
    "    \n",
    "    # Extract all features (except liveness cuz wth is that)\n",
    "    feature_vectors = np.array([[features['danceability'], \n",
    "                                 features['energy'], \n",
    "                                 features['valence'], \n",
    "                                 features['loudness'], \n",
    "                                 features['key'], \n",
    "                                 features['mode'], \n",
    "                                 features['speechiness'], \n",
    "                                 features['acousticness'], \n",
    "                                 features['instrumentalness'], \n",
    "                                 features['tempo'], \n",
    "                                 features['time_signature']] \n",
    "                                for features in audio_features])\n",
    "    \n",
    "    # I want to give most importance to energy, danceability and valence\n",
    "    # so scale them up\n",
    "    prioritized_features = feature_vectors.copy()\n",
    "    \n",
    "    prioritized_features[:, 0] *= 2  # Danceability\n",
    "    prioritized_features[:, 1] *= 2  # Energy\n",
    "    prioritized_features[:, 2] *= 2  # Valence\n",
    "    \n",
    "    # Calculate similarities\n",
    "    similarities = cosine_similarity(prioritized_features)\n",
    "    \n",
    "    # Find the indices of the most similar tracks (excluding itself)\n",
    "    most_similar_indices = np.argsort(similarities[0][1:])[-10:][::-1] + 1\n",
    "    \n",
    "    slowed_sped_tracks = []\n",
    "    different_songs_tracks = []\n",
    "    \n",
    "    # Categorize tracks based on their names\n",
    "    for index in most_similar_indices:\n",
    "        similar_track = results[index]\n",
    "        track_name, artist_name = similar_track[1], similar_track[2]\n",
    "        \n",
    "        # Check if the track name contains keywords indicating slowed or sped versions\n",
    "        if any(keyword in track_name.lower() for keyword in ['slowed', 'sped up', 'reverbed']):\n",
    "            slowed_sped_tracks.append(f\"{track_name} by {artist_name}\")\n",
    "        else:\n",
    "            different_songs_tracks.append(f\"{track_name} by {artist_name}\")\n",
    "    \n",
    "    print(f\"Top Similar Tracks to '{track_name}':\")\n",
    "    \n",
    "    if slowed_sped_tracks:\n",
    "        print(\"\\nSlowed/Sped/Reverbed Versions:\")\n",
    "        for track in slowed_sped_tracks:\n",
    "            print(f\"- {track}\")\n",
    "    \n",
    "    if different_songs_tracks:\n",
    "        print(\"\\nDifferent Similar Songs:\")\n",
    "        for track in different_songs_tracks:\n",
    "            print(f\"- {track}\")"
   ]
  },
  {
   "cell_type": "code",
   "execution_count": 7,
   "metadata": {},
   "outputs": [
    {
     "name": "stdout",
     "output_type": "stream",
     "text": [
      "Top Similar Tracks to 'MONTAGEM DIAMANTE ROSA':\n",
      "\n",
      "Slowed/Sped/Reverbed Versions:\n",
      "- MONTAGEM CORAL 1.0 - Super Slowed by SHADXWLXRD\n",
      "- MONTAGEM CORAL 1.0 (STADIUM SLOWED) by xxxcharacter\n",
      "- Montagem Mysterious Game - Slowed by LXNGVX\n",
      "- MONTAGEM CORAL 1.0 (SLOWED) by xxxcharacter\n",
      "- MONTAGEM CORAL 1.0 - Sped Up by SHADXWLXRD\n",
      "- MONTAGEM DIAMANTE ROSA - SLOWED by vtze archive\n",
      "\n",
      "Different Similar Songs:\n",
      "- Montagem Mysterious Game by LXNGVX\n",
      "- MONTAGEM CORAL 1.0 - HE'S BACKKK by SHADXWLXRD\n",
      "- Montagem Coral 1.0 - Techno Down by F4ST\n",
      "- MONTAGEM DIAMANTE ROSA by vtze archive\n"
     ]
    }
   ],
   "source": [
    "track_name_input = input(\"Enter a song name to analyze its bass characteristics on Spotify: \")\n",
    "analyze_bass_characteristics(track_name_input)"
   ]
  },
  {
   "cell_type": "code",
   "execution_count": null,
   "metadata": {},
   "outputs": [],
   "source": []
  }
 ],
 "metadata": {
  "kernelspec": {
   "display_name": "Python 3",
   "language": "python",
   "name": "python3"
  },
  "language_info": {
   "codemirror_mode": {
    "name": "ipython",
    "version": 3
   },
   "file_extension": ".py",
   "mimetype": "text/x-python",
   "name": "python",
   "nbconvert_exporter": "python",
   "pygments_lexer": "ipython3",
   "version": "3.10.12"
  }
 },
 "nbformat": 4,
 "nbformat_minor": 2
}
