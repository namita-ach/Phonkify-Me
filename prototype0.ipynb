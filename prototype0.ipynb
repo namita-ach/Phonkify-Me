{
 "cells": [
  {
   "cell_type": "code",
   "execution_count": 5,
   "metadata": {},
   "outputs": [],
   "source": [
    "import librosa\n",
    "import numpy as np\n",
    "from sklearn.metrics.pairwise import cosine_similarity"
   ]
  },
  {
   "cell_type": "code",
   "execution_count": 2,
   "metadata": {},
   "outputs": [],
   "source": [
    "A, sr_A = librosa.load('A-xtali.mp3')\n",
    "B, sr_B = librosa.load('B-xslide.mp3')\n",
    "C, sr_C = librosa.load('C-anatomy.mp3')"
   ]
  },
  {
   "cell_type": "code",
   "execution_count": 4,
   "metadata": {},
   "outputs": [],
   "source": [
    "# Compute Short time fourier transforms\n",
    "D_A = librosa.stft(A)\n",
    "D_B = librosa.stft(B)\n",
    "D_C = librosa.stft(C)\n",
    "\n",
    "# Convert to magnitude\n",
    "mag_A = np.abs(D_A)\n",
    "mag_B = np.abs(D_B)\n",
    "mag_C = np.abs(D_C)"
   ]
  },
  {
   "cell_type": "code",
   "execution_count": 6,
   "metadata": {},
   "outputs": [
    {
     "name": "stdout",
     "output_type": "stream",
     "text": [
      "Similarity between A and B: 0.50934744\n",
      "Similarity between A and C: 0.4329966\n"
     ]
    }
   ],
   "source": [
    "# Calculate cosine similarity\n",
    "similarity_AB = cosine_similarity(mag_A.T, mag_B.T)\n",
    "similarity_AC = cosine_similarity(mag_A.T, mag_C.T)\n",
    "\n",
    "print(\"Similarity between A and B:\", np.mean(similarity_AB))\n",
    "print(\"Similarity between A and C:\", np.mean(similarity_AC))"
   ]
  },
  {
   "cell_type": "code",
   "execution_count": null,
   "metadata": {},
   "outputs": [],
   "source": []
  }
 ],
 "metadata": {
  "kernelspec": {
   "display_name": "Python 3",
   "language": "python",
   "name": "python3"
  },
  "language_info": {
   "codemirror_mode": {
    "name": "ipython",
    "version": 3
   },
   "file_extension": ".py",
   "mimetype": "text/x-python",
   "name": "python",
   "nbconvert_exporter": "python",
   "pygments_lexer": "ipython3",
   "version": "3.10.12"
  }
 },
 "nbformat": 4,
 "nbformat_minor": 2
}
