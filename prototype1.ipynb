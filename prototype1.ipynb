{
 "cells": [
  {
   "cell_type": "code",
   "execution_count": 7,
   "metadata": {},
   "outputs": [],
   "source": [
    "import os\n",
    "import librosa\n",
    "from sklearn.metrics.pairwise import cosine_similarity\n",
    "import numpy as np"
   ]
  },
  {
   "cell_type": "code",
   "execution_count": 16,
   "metadata": {},
   "outputs": [],
   "source": [
    "def load_audio_files(directory):\n",
    "    audio_files = {}\n",
    "    valid_songs = []  # Initialize an empty list for valid song names\n",
    "    for filename in os.listdir(directory):\n",
    "        if filename.endswith('.mp3') or filename.endswith('.wav'):\n",
    "            file_path = os.path.join(directory, filename)\n",
    "            audio, sr = librosa.load(file_path, sr=None)\n",
    "            audio_files[filename] = (audio, sr)\n",
    "            \n",
    "            # Extract song name in the format A-songName\n",
    "            song_name = filename.split('-')[1].split('.')[0]  # Get everything after '-' and before '.mp3'\n",
    "            valid_songs.append(song_name)  # Add to valid songs list\n",
    "            \n",
    "    return audio_files, valid_songs  # Return both audio files and valid songs"
   ]
  },
  {
   "cell_type": "code",
   "execution_count": 17,
   "metadata": {},
   "outputs": [],
   "source": [
    "# Load the audio files\n",
    "audio_directory = '/home/pes1ug22am100/Documents/Phonk'\n",
    "audio_tracks, valid_songs = load_audio_files(audio_directory)"
   ]
  },
  {
   "cell_type": "code",
   "execution_count": 18,
   "metadata": {},
   "outputs": [],
   "source": [
    "def extract_features(audio):\n",
    "    mfccs = librosa.feature.mfcc(y=audio, sr=22050, n_mfcc=13)  # Use Mel-frequency cepstral coefficients\n",
    "    return mfccs.mean(axis=1)"
   ]
  },
  {
   "cell_type": "code",
   "execution_count": 19,
   "metadata": {},
   "outputs": [],
   "source": [
    "# Get the features of all tracks\n",
    "features = {name.split('-')[1].split('.')[0]: extract_features(audio[0]) for name, audio in audio_tracks.items()}"
   ]
  },
  {
   "cell_type": "code",
   "execution_count": 20,
   "metadata": {},
   "outputs": [],
   "source": [
    "def find_similar_tracks(selected_track, features):\n",
    "    selected_features = features[selected_track]\n",
    "    similarities = {}\n",
    "    \n",
    "    for track, feature_vector in features.items():\n",
    "        if track != selected_track:\n",
    "            similarity_score = cosine_similarity([selected_features], [feature_vector])[0][0]\n",
    "            similarities[track] = similarity_score\n",
    "            \n",
    "    # Sort by similarity score\n",
    "    similar_tracks = sorted(similarities.items(), key=lambda x: x[1], reverse=True)\n",
    "    return similar_tracks"
   ]
  },
  {
   "cell_type": "code",
   "execution_count": 21,
   "metadata": {},
   "outputs": [],
   "source": [
    "# okay, now I know user input may not always be fully correct, so\n",
    "# I'll use Levenshtein distance and set a threshold\n",
    "\n",
    "def levenshtein_distance(s, t):\n",
    "    m = len(s)\n",
    "    n = len(t)\n",
    "\n",
    "    dp = [[0] * (n + 1) for _ in range(m + 1)]\n",
    "\n",
    "    for i in range(m + 1):\n",
    "        dp[i][0] = i  # Deletion cost\n",
    "    for j in range(n + 1):\n",
    "        dp[0][j] = j  # Insertion cost\n",
    "\n",
    "    for i in range(1, m + 1):\n",
    "        for j in range(1, n + 1):\n",
    "            cost = 0 if s[i - 1] == t[j - 1] else 1\n",
    "            dp[i][j] = min(dp[i - 1][j] + 1,      # Deletion\n",
    "                           dp[i][j - 1] + 1,      # Insertion\n",
    "                           dp[i - 1][j - 1] + cost)  # Substitution\n",
    "\n",
    "    return dp[m][n]"
   ]
  },
  {
   "cell_type": "code",
   "execution_count": 14,
   "metadata": {},
   "outputs": [
    {
     "name": "stdout",
     "output_type": "stream",
     "text": [
      "Levenshtein Distance between 'bob' and 'bol' is 1\n"
     ]
    }
   ],
   "source": [
    "'''# THis is how it'd work\n",
    "string1 = \"bob\"\n",
    "string2 = \"bol\"\n",
    "distance = levenshtein_distance(string1, string2)\n",
    "print(f\"Levenshtein Distance between '{string1}' and '{string2}' is {distance}\")'''"
   ]
  },
  {
   "cell_type": "code",
   "execution_count": 22,
   "metadata": {},
   "outputs": [],
   "source": [
    "def get_user_choice(valid_songs):\n",
    "    while True:\n",
    "        user_input = input(\"Enter the name of your song: \")\n",
    "        \n",
    "        # Check if input is in valid songs\n",
    "        if user_input in valid_songs:\n",
    "            return user_input\n",
    "        \n",
    "        # Find close matches within the threshold\n",
    "        close_matches = [song for song in valid_songs if levenshtein_distance(user_input, song) <= 3]\n",
    "        \n",
    "        if close_matches:\n",
    "            print(\"Did you mean one of these?\")\n",
    "            for match in close_matches:\n",
    "                print(f\"- {match}\")\n",
    "            confirm = input(\"Type the exact name or 'n' for no: \")\n",
    "            if confirm in close_matches:\n",
    "                return confirm\n",
    "        \n",
    "        print(\"Song not found. Please try again.\")"
   ]
  },
  {
   "cell_type": "code",
   "execution_count": 23,
   "metadata": {},
   "outputs": [
    {
     "name": "stdout",
     "output_type": "stream",
     "text": [
      "Tracks similar to xtali\n",
      "xslide: Similarity Score: 0.9872\n",
      "anatomy: Similarity Score: 0.9284\n"
     ]
    }
   ],
   "source": [
    "chosen_song = get_user_choice(valid_songs)\n",
    "similar_tracks = find_similar_tracks(chosen_song, features)\n",
    "\n",
    "print(\"Tracks similar to\", chosen_song)\n",
    "for track, score in similar_tracks:\n",
    "    print(f\"{track}: Similarity Score: {score:.4f}\")"
   ]
  },
  {
   "cell_type": "code",
   "execution_count": null,
   "metadata": {},
   "outputs": [],
   "source": []
  }
 ],
 "metadata": {
  "kernelspec": {
   "display_name": "Python 3",
   "language": "python",
   "name": "python3"
  },
  "language_info": {
   "codemirror_mode": {
    "name": "ipython",
    "version": 3
   },
   "file_extension": ".py",
   "mimetype": "text/x-python",
   "name": "python",
   "nbconvert_exporter": "python",
   "pygments_lexer": "ipython3",
   "version": "3.10.12"
  }
 },
 "nbformat": 4,
 "nbformat_minor": 2
}
